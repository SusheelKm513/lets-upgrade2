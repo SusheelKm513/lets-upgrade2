{
  "nbformat": 4,
  "nbformat_minor": 0,
  "metadata": {
    "colab": {
      "provenance": []
    },
    "kernelspec": {
      "name": "python3",
      "display_name": "Python 3"
    },
    "language_info": {
      "name": "python"
    }
  },
  "cells": [
    {
      "cell_type": "code",
      "execution_count": 1,
      "metadata": {
        "colab": {
          "base_uri": "https://localhost:8080/"
        },
        "id": "3fAgjATGexz_",
        "outputId": "61602aa5-03e3-4237-fe60-54b8833af66c"
      },
      "outputs": [
        {
          "output_type": "stream",
          "name": "stdout",
          "text": [
            "Dog in the zoo:\n",
            "Bark!\n",
            "\n",
            "Cat in the zoo:\n",
            "Meow!\n"
          ]
        }
      ],
      "source": [
        "# Step 1: Create a base class Animal with a method make_sound()\n",
        "class Animal:\n",
        "    def make_sound(self):\n",
        "        print(\"Generic animal sound\")\n",
        "\n",
        "# Step 2: Create two subclasses Dog and Cat, each inheriting from the Animal class\n",
        "class Dog(Animal):\n",
        "    # Step 3: Override the make_sound() method in the Dog class with \"bark\"\n",
        "    def make_sound(self):\n",
        "        print(\"Bark!\")\n",
        "\n",
        "class Cat(Animal):\n",
        "    # Step 3: Override the make_sound() method in the Cat class with \"meow\"\n",
        "    def make_sound(self):\n",
        "        print(\"Meow!\")\n",
        "\n",
        "# Step 4: Implement a function called animal_sound_in_zoo() that takes an animal object as a parameter and calls its make_sound() method\n",
        "def animal_sound_in_zoo(animal):\n",
        "    animal.make_sound()\n",
        "\n",
        "# Step 5: Create instances of Dog and Cat classes and call the animal_sound_in_zoo() function with these instances as arguments to observe their unique sounds\n",
        "if __name__ == \"__main__\":\n",
        "    dog = Dog()\n",
        "    cat = Cat()\n",
        "\n",
        "    print(\"Dog in the zoo:\")\n",
        "    animal_sound_in_zoo(dog)\n",
        "\n",
        "    print(\"\\nCat in the zoo:\")\n",
        "    animal_sound_in_zoo(cat)\n"
      ]
    },
    {
      "cell_type": "code",
      "source": [],
      "metadata": {
        "id": "8e_OyYaLe1Ye"
      },
      "execution_count": null,
      "outputs": []
    }
  ]
}